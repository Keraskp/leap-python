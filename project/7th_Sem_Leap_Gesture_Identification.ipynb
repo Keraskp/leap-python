{
  "nbformat": 4,
  "nbformat_minor": 0,
  "metadata": {
    "colab": {
      "provenance": []
    },
    "kernelspec": {
      "name": "python3",
      "display_name": "Python 3"
    },
    "language_info": {
      "name": "python"
    }
  },
  "cells": [
    {
      "cell_type": "code",
      "execution_count": null,
      "metadata": {
        "id": "gGuuyV35BC4N"
      },
      "outputs": [],
      "source": [
        "import tensorflow as tf\n",
        "import numpy as np\n",
        "import pandas as pd"
      ]
    },
    {
      "cell_type": "code",
      "source": [
        "df = pd.read_csv('./leap_data.csv')"
      ],
      "metadata": {
        "id": "kxO2AkQsgpY0"
      },
      "execution_count": null,
      "outputs": []
    },
    {
      "cell_type": "code",
      "source": [
        "df.describe()"
      ],
      "metadata": {
        "colab": {
          "base_uri": "https://localhost:8080/",
          "height": 350
        },
        "id": "jEfYQuidhM73",
        "outputId": "8bb53831-c0e5-40fe-8a8b-d06b490cd9ea"
      },
      "execution_count": null,
      "outputs": [
        {
          "output_type": "execute_result",
          "data": {
            "text/plain": [
              "             hands      fingers       R_hand  R_palmpos_x  R_palmpos_y  \\\n",
              "count  9417.000000  9417.000000  9417.000000  9417.000000  9417.000000   \n",
              "mean      1.006902     5.034512     0.465329    17.149131    -9.577918   \n",
              "std       0.628256     3.141281     0.498823    32.657931    43.573616   \n",
              "min       0.000000     0.000000     0.000000  -126.004930  -179.945680   \n",
              "25%       1.000000     5.000000     0.000000     0.000000   -15.550946   \n",
              "50%       1.000000     5.000000     0.000000     0.000000     0.000000   \n",
              "75%       1.000000     5.000000     1.000000    34.434174     0.000000   \n",
              "max       2.000000    10.000000     1.000000   159.988645   178.988470   \n",
              "\n",
              "       R_palmpos_z  R_palmvel_x  R_palmvel_y  R_palmvel_z      R_pitch  ...  \\\n",
              "count  9417.000000  9417.000000  9417.000000  9417.000000  9417.000000  ...   \n",
              "mean     -8.255903    19.253144   108.175465     6.775617    11.636102  ...   \n",
              "std      34.531135    77.849343   127.429367    46.576734   326.572676  ...   \n",
              "min    -179.782302  -276.384857     0.000000  -169.011322 -2677.569824  ...   \n",
              "25%     -15.294696     0.000000     0.000000     0.000000     0.000000  ...   \n",
              "50%       0.000000     0.000000     0.000000     0.000000     0.000000  ...   \n",
              "75%       0.000000    55.089859   215.238602     5.186865     0.000000  ...   \n",
              "max     179.697730   347.699310   481.505737   260.980133  2749.246094  ...   \n",
              "\n",
              "           L_pitch        L_roll        L_yaw  L_arm_dir_x  L_arm_dir_y  \\\n",
              "count  9417.000000  9.417000e+03  9417.000000  9417.000000  9417.000000   \n",
              "mean      4.508340 -2.462508e+00     6.811722     0.183754     0.171617   \n",
              "std     344.356405  2.040093e+02   260.146907     0.292609     0.241608   \n",
              "min   -2214.096191 -1.525736e+03 -2195.272949    -0.886738    -0.775825   \n",
              "25%      -7.129094 -1.865118e+01    -8.049717     0.000000     0.000000   \n",
              "50%       0.000000  0.000000e+00     0.000000     0.000000     0.000000   \n",
              "75%      14.032420  1.192093e-07     6.450735     0.377067     0.355272   \n",
              "max    2504.065186  1.561921e+03  1751.699463     0.998943     0.999995   \n",
              "\n",
              "       L_arm_dir_z  L_wristpos_x  L_wristpos_y  L_wristpos_z      gesture  \n",
              "count  9417.000000   9417.000000   9417.000000   9417.000000  9417.000000  \n",
              "mean     -0.411003    -42.667712    112.115926     24.979206     2.453011  \n",
              "std       0.405605     78.783490    117.287866     53.383201     1.680308  \n",
              "min      -0.999823   -313.034485      0.000000   -107.027306     0.000000  \n",
              "25%      -0.816869   -118.175522      0.000000      0.000000     1.000000  \n",
              "50%      -0.477637      0.000000    117.164688      0.000000     3.000000  \n",
              "75%       0.000000      0.000000    198.627579     49.871426     4.000000  \n",
              "max       0.837319    374.252838    471.342194    265.634918     5.000000  \n",
              "\n",
              "[8 rows x 35 columns]"
            ],
            "text/html": [
              "\n",
              "  <div id=\"df-1658d0b9-3f50-4262-a1cf-bf5b07c50428\" class=\"colab-df-container\">\n",
              "    <div>\n",
              "<style scoped>\n",
              "    .dataframe tbody tr th:only-of-type {\n",
              "        vertical-align: middle;\n",
              "    }\n",
              "\n",
              "    .dataframe tbody tr th {\n",
              "        vertical-align: top;\n",
              "    }\n",
              "\n",
              "    .dataframe thead th {\n",
              "        text-align: right;\n",
              "    }\n",
              "</style>\n",
              "<table border=\"1\" class=\"dataframe\">\n",
              "  <thead>\n",
              "    <tr style=\"text-align: right;\">\n",
              "      <th></th>\n",
              "      <th>hands</th>\n",
              "      <th>fingers</th>\n",
              "      <th>R_hand</th>\n",
              "      <th>R_palmpos_x</th>\n",
              "      <th>R_palmpos_y</th>\n",
              "      <th>R_palmpos_z</th>\n",
              "      <th>R_palmvel_x</th>\n",
              "      <th>R_palmvel_y</th>\n",
              "      <th>R_palmvel_z</th>\n",
              "      <th>R_pitch</th>\n",
              "      <th>...</th>\n",
              "      <th>L_pitch</th>\n",
              "      <th>L_roll</th>\n",
              "      <th>L_yaw</th>\n",
              "      <th>L_arm_dir_x</th>\n",
              "      <th>L_arm_dir_y</th>\n",
              "      <th>L_arm_dir_z</th>\n",
              "      <th>L_wristpos_x</th>\n",
              "      <th>L_wristpos_y</th>\n",
              "      <th>L_wristpos_z</th>\n",
              "      <th>gesture</th>\n",
              "    </tr>\n",
              "  </thead>\n",
              "  <tbody>\n",
              "    <tr>\n",
              "      <th>count</th>\n",
              "      <td>9417.000000</td>\n",
              "      <td>9417.000000</td>\n",
              "      <td>9417.000000</td>\n",
              "      <td>9417.000000</td>\n",
              "      <td>9417.000000</td>\n",
              "      <td>9417.000000</td>\n",
              "      <td>9417.000000</td>\n",
              "      <td>9417.000000</td>\n",
              "      <td>9417.000000</td>\n",
              "      <td>9417.000000</td>\n",
              "      <td>...</td>\n",
              "      <td>9417.000000</td>\n",
              "      <td>9.417000e+03</td>\n",
              "      <td>9417.000000</td>\n",
              "      <td>9417.000000</td>\n",
              "      <td>9417.000000</td>\n",
              "      <td>9417.000000</td>\n",
              "      <td>9417.000000</td>\n",
              "      <td>9417.000000</td>\n",
              "      <td>9417.000000</td>\n",
              "      <td>9417.000000</td>\n",
              "    </tr>\n",
              "    <tr>\n",
              "      <th>mean</th>\n",
              "      <td>1.006902</td>\n",
              "      <td>5.034512</td>\n",
              "      <td>0.465329</td>\n",
              "      <td>17.149131</td>\n",
              "      <td>-9.577918</td>\n",
              "      <td>-8.255903</td>\n",
              "      <td>19.253144</td>\n",
              "      <td>108.175465</td>\n",
              "      <td>6.775617</td>\n",
              "      <td>11.636102</td>\n",
              "      <td>...</td>\n",
              "      <td>4.508340</td>\n",
              "      <td>-2.462508e+00</td>\n",
              "      <td>6.811722</td>\n",
              "      <td>0.183754</td>\n",
              "      <td>0.171617</td>\n",
              "      <td>-0.411003</td>\n",
              "      <td>-42.667712</td>\n",
              "      <td>112.115926</td>\n",
              "      <td>24.979206</td>\n",
              "      <td>2.453011</td>\n",
              "    </tr>\n",
              "    <tr>\n",
              "      <th>std</th>\n",
              "      <td>0.628256</td>\n",
              "      <td>3.141281</td>\n",
              "      <td>0.498823</td>\n",
              "      <td>32.657931</td>\n",
              "      <td>43.573616</td>\n",
              "      <td>34.531135</td>\n",
              "      <td>77.849343</td>\n",
              "      <td>127.429367</td>\n",
              "      <td>46.576734</td>\n",
              "      <td>326.572676</td>\n",
              "      <td>...</td>\n",
              "      <td>344.356405</td>\n",
              "      <td>2.040093e+02</td>\n",
              "      <td>260.146907</td>\n",
              "      <td>0.292609</td>\n",
              "      <td>0.241608</td>\n",
              "      <td>0.405605</td>\n",
              "      <td>78.783490</td>\n",
              "      <td>117.287866</td>\n",
              "      <td>53.383201</td>\n",
              "      <td>1.680308</td>\n",
              "    </tr>\n",
              "    <tr>\n",
              "      <th>min</th>\n",
              "      <td>0.000000</td>\n",
              "      <td>0.000000</td>\n",
              "      <td>0.000000</td>\n",
              "      <td>-126.004930</td>\n",
              "      <td>-179.945680</td>\n",
              "      <td>-179.782302</td>\n",
              "      <td>-276.384857</td>\n",
              "      <td>0.000000</td>\n",
              "      <td>-169.011322</td>\n",
              "      <td>-2677.569824</td>\n",
              "      <td>...</td>\n",
              "      <td>-2214.096191</td>\n",
              "      <td>-1.525736e+03</td>\n",
              "      <td>-2195.272949</td>\n",
              "      <td>-0.886738</td>\n",
              "      <td>-0.775825</td>\n",
              "      <td>-0.999823</td>\n",
              "      <td>-313.034485</td>\n",
              "      <td>0.000000</td>\n",
              "      <td>-107.027306</td>\n",
              "      <td>0.000000</td>\n",
              "    </tr>\n",
              "    <tr>\n",
              "      <th>25%</th>\n",
              "      <td>1.000000</td>\n",
              "      <td>5.000000</td>\n",
              "      <td>0.000000</td>\n",
              "      <td>0.000000</td>\n",
              "      <td>-15.550946</td>\n",
              "      <td>-15.294696</td>\n",
              "      <td>0.000000</td>\n",
              "      <td>0.000000</td>\n",
              "      <td>0.000000</td>\n",
              "      <td>0.000000</td>\n",
              "      <td>...</td>\n",
              "      <td>-7.129094</td>\n",
              "      <td>-1.865118e+01</td>\n",
              "      <td>-8.049717</td>\n",
              "      <td>0.000000</td>\n",
              "      <td>0.000000</td>\n",
              "      <td>-0.816869</td>\n",
              "      <td>-118.175522</td>\n",
              "      <td>0.000000</td>\n",
              "      <td>0.000000</td>\n",
              "      <td>1.000000</td>\n",
              "    </tr>\n",
              "    <tr>\n",
              "      <th>50%</th>\n",
              "      <td>1.000000</td>\n",
              "      <td>5.000000</td>\n",
              "      <td>0.000000</td>\n",
              "      <td>0.000000</td>\n",
              "      <td>0.000000</td>\n",
              "      <td>0.000000</td>\n",
              "      <td>0.000000</td>\n",
              "      <td>0.000000</td>\n",
              "      <td>0.000000</td>\n",
              "      <td>0.000000</td>\n",
              "      <td>...</td>\n",
              "      <td>0.000000</td>\n",
              "      <td>0.000000e+00</td>\n",
              "      <td>0.000000</td>\n",
              "      <td>0.000000</td>\n",
              "      <td>0.000000</td>\n",
              "      <td>-0.477637</td>\n",
              "      <td>0.000000</td>\n",
              "      <td>117.164688</td>\n",
              "      <td>0.000000</td>\n",
              "      <td>3.000000</td>\n",
              "    </tr>\n",
              "    <tr>\n",
              "      <th>75%</th>\n",
              "      <td>1.000000</td>\n",
              "      <td>5.000000</td>\n",
              "      <td>1.000000</td>\n",
              "      <td>34.434174</td>\n",
              "      <td>0.000000</td>\n",
              "      <td>0.000000</td>\n",
              "      <td>55.089859</td>\n",
              "      <td>215.238602</td>\n",
              "      <td>5.186865</td>\n",
              "      <td>0.000000</td>\n",
              "      <td>...</td>\n",
              "      <td>14.032420</td>\n",
              "      <td>1.192093e-07</td>\n",
              "      <td>6.450735</td>\n",
              "      <td>0.377067</td>\n",
              "      <td>0.355272</td>\n",
              "      <td>0.000000</td>\n",
              "      <td>0.000000</td>\n",
              "      <td>198.627579</td>\n",
              "      <td>49.871426</td>\n",
              "      <td>4.000000</td>\n",
              "    </tr>\n",
              "    <tr>\n",
              "      <th>max</th>\n",
              "      <td>2.000000</td>\n",
              "      <td>10.000000</td>\n",
              "      <td>1.000000</td>\n",
              "      <td>159.988645</td>\n",
              "      <td>178.988470</td>\n",
              "      <td>179.697730</td>\n",
              "      <td>347.699310</td>\n",
              "      <td>481.505737</td>\n",
              "      <td>260.980133</td>\n",
              "      <td>2749.246094</td>\n",
              "      <td>...</td>\n",
              "      <td>2504.065186</td>\n",
              "      <td>1.561921e+03</td>\n",
              "      <td>1751.699463</td>\n",
              "      <td>0.998943</td>\n",
              "      <td>0.999995</td>\n",
              "      <td>0.837319</td>\n",
              "      <td>374.252838</td>\n",
              "      <td>471.342194</td>\n",
              "      <td>265.634918</td>\n",
              "      <td>5.000000</td>\n",
              "    </tr>\n",
              "  </tbody>\n",
              "</table>\n",
              "<p>8 rows × 35 columns</p>\n",
              "</div>\n",
              "    <div class=\"colab-df-buttons\">\n",
              "\n",
              "  <div class=\"colab-df-container\">\n",
              "    <button class=\"colab-df-convert\" onclick=\"convertToInteractive('df-1658d0b9-3f50-4262-a1cf-bf5b07c50428')\"\n",
              "            title=\"Convert this dataframe to an interactive table.\"\n",
              "            style=\"display:none;\">\n",
              "\n",
              "  <svg xmlns=\"http://www.w3.org/2000/svg\" height=\"24px\" viewBox=\"0 -960 960 960\">\n",
              "    <path d=\"M120-120v-720h720v720H120Zm60-500h600v-160H180v160Zm220 220h160v-160H400v160Zm0 220h160v-160H400v160ZM180-400h160v-160H180v160Zm440 0h160v-160H620v160ZM180-180h160v-160H180v160Zm440 0h160v-160H620v160Z\"/>\n",
              "  </svg>\n",
              "    </button>\n",
              "\n",
              "  <style>\n",
              "    .colab-df-container {\n",
              "      display:flex;\n",
              "      gap: 12px;\n",
              "    }\n",
              "\n",
              "    .colab-df-convert {\n",
              "      background-color: #E8F0FE;\n",
              "      border: none;\n",
              "      border-radius: 50%;\n",
              "      cursor: pointer;\n",
              "      display: none;\n",
              "      fill: #1967D2;\n",
              "      height: 32px;\n",
              "      padding: 0 0 0 0;\n",
              "      width: 32px;\n",
              "    }\n",
              "\n",
              "    .colab-df-convert:hover {\n",
              "      background-color: #E2EBFA;\n",
              "      box-shadow: 0px 1px 2px rgba(60, 64, 67, 0.3), 0px 1px 3px 1px rgba(60, 64, 67, 0.15);\n",
              "      fill: #174EA6;\n",
              "    }\n",
              "\n",
              "    .colab-df-buttons div {\n",
              "      margin-bottom: 4px;\n",
              "    }\n",
              "\n",
              "    [theme=dark] .colab-df-convert {\n",
              "      background-color: #3B4455;\n",
              "      fill: #D2E3FC;\n",
              "    }\n",
              "\n",
              "    [theme=dark] .colab-df-convert:hover {\n",
              "      background-color: #434B5C;\n",
              "      box-shadow: 0px 1px 3px 1px rgba(0, 0, 0, 0.15);\n",
              "      filter: drop-shadow(0px 1px 2px rgba(0, 0, 0, 0.3));\n",
              "      fill: #FFFFFF;\n",
              "    }\n",
              "  </style>\n",
              "\n",
              "    <script>\n",
              "      const buttonEl =\n",
              "        document.querySelector('#df-1658d0b9-3f50-4262-a1cf-bf5b07c50428 button.colab-df-convert');\n",
              "      buttonEl.style.display =\n",
              "        google.colab.kernel.accessAllowed ? 'block' : 'none';\n",
              "\n",
              "      async function convertToInteractive(key) {\n",
              "        const element = document.querySelector('#df-1658d0b9-3f50-4262-a1cf-bf5b07c50428');\n",
              "        const dataTable =\n",
              "          await google.colab.kernel.invokeFunction('convertToInteractive',\n",
              "                                                    [key], {});\n",
              "        if (!dataTable) return;\n",
              "\n",
              "        const docLinkHtml = 'Like what you see? Visit the ' +\n",
              "          '<a target=\"_blank\" href=https://colab.research.google.com/notebooks/data_table.ipynb>data table notebook</a>'\n",
              "          + ' to learn more about interactive tables.';\n",
              "        element.innerHTML = '';\n",
              "        dataTable['output_type'] = 'display_data';\n",
              "        await google.colab.output.renderOutput(dataTable, element);\n",
              "        const docLink = document.createElement('div');\n",
              "        docLink.innerHTML = docLinkHtml;\n",
              "        element.appendChild(docLink);\n",
              "      }\n",
              "    </script>\n",
              "  </div>\n",
              "\n",
              "\n",
              "<div id=\"df-e660e1cf-c964-431e-82b4-6bf8c0b5a172\">\n",
              "  <button class=\"colab-df-quickchart\" onclick=\"quickchart('df-e660e1cf-c964-431e-82b4-6bf8c0b5a172')\"\n",
              "            title=\"Suggest charts.\"\n",
              "            style=\"display:none;\">\n",
              "\n",
              "<svg xmlns=\"http://www.w3.org/2000/svg\" height=\"24px\"viewBox=\"0 0 24 24\"\n",
              "     width=\"24px\">\n",
              "    <g>\n",
              "        <path d=\"M19 3H5c-1.1 0-2 .9-2 2v14c0 1.1.9 2 2 2h14c1.1 0 2-.9 2-2V5c0-1.1-.9-2-2-2zM9 17H7v-7h2v7zm4 0h-2V7h2v10zm4 0h-2v-4h2v4z\"/>\n",
              "    </g>\n",
              "</svg>\n",
              "  </button>\n",
              "\n",
              "<style>\n",
              "  .colab-df-quickchart {\n",
              "      --bg-color: #E8F0FE;\n",
              "      --fill-color: #1967D2;\n",
              "      --hover-bg-color: #E2EBFA;\n",
              "      --hover-fill-color: #174EA6;\n",
              "      --disabled-fill-color: #AAA;\n",
              "      --disabled-bg-color: #DDD;\n",
              "  }\n",
              "\n",
              "  [theme=dark] .colab-df-quickchart {\n",
              "      --bg-color: #3B4455;\n",
              "      --fill-color: #D2E3FC;\n",
              "      --hover-bg-color: #434B5C;\n",
              "      --hover-fill-color: #FFFFFF;\n",
              "      --disabled-bg-color: #3B4455;\n",
              "      --disabled-fill-color: #666;\n",
              "  }\n",
              "\n",
              "  .colab-df-quickchart {\n",
              "    background-color: var(--bg-color);\n",
              "    border: none;\n",
              "    border-radius: 50%;\n",
              "    cursor: pointer;\n",
              "    display: none;\n",
              "    fill: var(--fill-color);\n",
              "    height: 32px;\n",
              "    padding: 0;\n",
              "    width: 32px;\n",
              "  }\n",
              "\n",
              "  .colab-df-quickchart:hover {\n",
              "    background-color: var(--hover-bg-color);\n",
              "    box-shadow: 0 1px 2px rgba(60, 64, 67, 0.3), 0 1px 3px 1px rgba(60, 64, 67, 0.15);\n",
              "    fill: var(--button-hover-fill-color);\n",
              "  }\n",
              "\n",
              "  .colab-df-quickchart-complete:disabled,\n",
              "  .colab-df-quickchart-complete:disabled:hover {\n",
              "    background-color: var(--disabled-bg-color);\n",
              "    fill: var(--disabled-fill-color);\n",
              "    box-shadow: none;\n",
              "  }\n",
              "\n",
              "  .colab-df-spinner {\n",
              "    border: 2px solid var(--fill-color);\n",
              "    border-color: transparent;\n",
              "    border-bottom-color: var(--fill-color);\n",
              "    animation:\n",
              "      spin 1s steps(1) infinite;\n",
              "  }\n",
              "\n",
              "  @keyframes spin {\n",
              "    0% {\n",
              "      border-color: transparent;\n",
              "      border-bottom-color: var(--fill-color);\n",
              "      border-left-color: var(--fill-color);\n",
              "    }\n",
              "    20% {\n",
              "      border-color: transparent;\n",
              "      border-left-color: var(--fill-color);\n",
              "      border-top-color: var(--fill-color);\n",
              "    }\n",
              "    30% {\n",
              "      border-color: transparent;\n",
              "      border-left-color: var(--fill-color);\n",
              "      border-top-color: var(--fill-color);\n",
              "      border-right-color: var(--fill-color);\n",
              "    }\n",
              "    40% {\n",
              "      border-color: transparent;\n",
              "      border-right-color: var(--fill-color);\n",
              "      border-top-color: var(--fill-color);\n",
              "    }\n",
              "    60% {\n",
              "      border-color: transparent;\n",
              "      border-right-color: var(--fill-color);\n",
              "    }\n",
              "    80% {\n",
              "      border-color: transparent;\n",
              "      border-right-color: var(--fill-color);\n",
              "      border-bottom-color: var(--fill-color);\n",
              "    }\n",
              "    90% {\n",
              "      border-color: transparent;\n",
              "      border-bottom-color: var(--fill-color);\n",
              "    }\n",
              "  }\n",
              "</style>\n",
              "\n",
              "  <script>\n",
              "    async function quickchart(key) {\n",
              "      const quickchartButtonEl =\n",
              "        document.querySelector('#' + key + ' button');\n",
              "      quickchartButtonEl.disabled = true;  // To prevent multiple clicks.\n",
              "      quickchartButtonEl.classList.add('colab-df-spinner');\n",
              "      try {\n",
              "        const charts = await google.colab.kernel.invokeFunction(\n",
              "            'suggestCharts', [key], {});\n",
              "      } catch (error) {\n",
              "        console.error('Error during call to suggestCharts:', error);\n",
              "      }\n",
              "      quickchartButtonEl.classList.remove('colab-df-spinner');\n",
              "      quickchartButtonEl.classList.add('colab-df-quickchart-complete');\n",
              "    }\n",
              "    (() => {\n",
              "      let quickchartButtonEl =\n",
              "        document.querySelector('#df-e660e1cf-c964-431e-82b4-6bf8c0b5a172 button');\n",
              "      quickchartButtonEl.style.display =\n",
              "        google.colab.kernel.accessAllowed ? 'block' : 'none';\n",
              "    })();\n",
              "  </script>\n",
              "</div>\n",
              "    </div>\n",
              "  </div>\n"
            ]
          },
          "metadata": {},
          "execution_count": 3
        }
      ]
    },
    {
      "cell_type": "code",
      "source": [
        "shape = df.shape\n",
        "shape"
      ],
      "metadata": {
        "colab": {
          "base_uri": "https://localhost:8080/"
        },
        "id": "0vWlXwethPdJ",
        "outputId": "2d335f97-d0f5-47a2-ab2f-dd67de7a226f"
      },
      "execution_count": null,
      "outputs": [
        {
          "output_type": "execute_result",
          "data": {
            "text/plain": [
              "(9417, 35)"
            ]
          },
          "metadata": {},
          "execution_count": 4
        }
      ]
    },
    {
      "cell_type": "code",
      "source": [
        "Y = df['gesture']\n",
        "X = df.drop('gesture',axis=1)"
      ],
      "metadata": {
        "id": "u1B2mz7Dhhmv"
      },
      "execution_count": null,
      "outputs": []
    },
    {
      "cell_type": "code",
      "source": [
        "x = np.array(X)\n",
        "y = np.array(Y)"
      ],
      "metadata": {
        "id": "3ejSCjliuZ2L"
      },
      "execution_count": null,
      "outputs": []
    },
    {
      "cell_type": "code",
      "source": [
        "print(x.shape, y.shape)"
      ],
      "metadata": {
        "colab": {
          "base_uri": "https://localhost:8080/"
        },
        "id": "AFb49MVeuk1U",
        "outputId": "645c5d6c-54e9-41e4-a5b5-adaf4de6e667"
      },
      "execution_count": null,
      "outputs": [
        {
          "output_type": "stream",
          "name": "stdout",
          "text": [
            "(9417, 34) (9417,)\n"
          ]
        }
      ]
    },
    {
      "cell_type": "code",
      "source": [
        "y.shape[0]"
      ],
      "metadata": {
        "colab": {
          "base_uri": "https://localhost:8080/"
        },
        "id": "PPXIIiHluthe",
        "outputId": "653289b6-4346-498a-865c-d3168c66d231"
      },
      "execution_count": null,
      "outputs": [
        {
          "output_type": "execute_result",
          "data": {
            "text/plain": [
              "9417"
            ]
          },
          "metadata": {},
          "execution_count": 8
        }
      ]
    },
    {
      "cell_type": "code",
      "source": [
        "y = np.reshape(y, (y.shape[0], 1))"
      ],
      "metadata": {
        "id": "eFKHtzNJvmyt"
      },
      "execution_count": null,
      "outputs": []
    },
    {
      "cell_type": "code",
      "source": [
        "print(x.shape, y.shape)"
      ],
      "metadata": {
        "colab": {
          "base_uri": "https://localhost:8080/"
        },
        "id": "dJ_-FsjSvz2A",
        "outputId": "e2f2a6bd-72ce-4809-ad98-5c48600bc16d"
      },
      "execution_count": null,
      "outputs": [
        {
          "output_type": "stream",
          "name": "stdout",
          "text": [
            "(9417, 34) (9417, 1)\n"
          ]
        }
      ]
    },
    {
      "cell_type": "code",
      "source": [
        "from sklearn.preprocessing import StandardScaler\n",
        "scaler = StandardScaler()"
      ],
      "metadata": {
        "id": "M6uEWqOov1i9"
      },
      "execution_count": null,
      "outputs": []
    },
    {
      "cell_type": "code",
      "source": [
        "scal = scaler.fit(x)\n",
        "x = scal.transform(x)"
      ],
      "metadata": {
        "id": "--YPVuv-wVvs"
      },
      "execution_count": null,
      "outputs": []
    },
    {
      "cell_type": "code",
      "source": [
        "x"
      ],
      "metadata": {
        "colab": {
          "base_uri": "https://localhost:8080/"
        },
        "id": "h0MSpF_MwphD",
        "outputId": "1d675c40-9f52-4d56-a3ff-0db5f18d3afe"
      },
      "execution_count": null,
      "outputs": [
        {
          "output_type": "execute_result",
          "data": {
            "text/plain": [
              "array([[-1.60277883, -1.60277883, -0.93290291, ...,  0.54161066,\n",
              "        -0.95595464, -0.46794745],\n",
              "       [-1.60277883, -1.60277883, -0.93290291, ...,  0.54161066,\n",
              "        -0.95595464, -0.46794745],\n",
              "       [-1.60277883, -1.60277883, -0.93290291, ...,  0.54161066,\n",
              "        -0.95595464, -0.46794745],\n",
              "       ...,\n",
              "       [-1.60277883, -1.60277883, -0.93290291, ...,  0.54161066,\n",
              "        -0.95595464, -0.46794745],\n",
              "       [-1.60277883, -1.60277883, -0.93290291, ...,  0.54161066,\n",
              "        -0.95595464, -0.46794745],\n",
              "       [-1.60277883, -1.60277883, -0.93290291, ...,  0.54161066,\n",
              "        -0.95595464, -0.46794745]])"
            ]
          },
          "metadata": {},
          "execution_count": 13
        }
      ]
    },
    {
      "cell_type": "code",
      "source": [
        "from pprint import pprint"
      ],
      "metadata": {
        "id": "vIHPimnUw-D6"
      },
      "execution_count": null,
      "outputs": []
    },
    {
      "cell_type": "code",
      "source": [
        "pprint(x)"
      ],
      "metadata": {
        "colab": {
          "base_uri": "https://localhost:8080/"
        },
        "id": "4F1NsaAExJY6",
        "outputId": "50f0d68b-a3e4-4e1a-b8f6-49aa69b33d77"
      },
      "execution_count": null,
      "outputs": [
        {
          "output_type": "stream",
          "name": "stdout",
          "text": [
            "array([[-1.60277883, -1.60277883, -0.93290291, ...,  0.54161066,\n",
            "        -0.95595464, -0.46794745],\n",
            "       [-1.60277883, -1.60277883, -0.93290291, ...,  0.54161066,\n",
            "        -0.95595464, -0.46794745],\n",
            "       [-1.60277883, -1.60277883, -0.93290291, ...,  0.54161066,\n",
            "        -0.95595464, -0.46794745],\n",
            "       ...,\n",
            "       [-1.60277883, -1.60277883, -0.93290291, ...,  0.54161066,\n",
            "        -0.95595464, -0.46794745],\n",
            "       [-1.60277883, -1.60277883, -0.93290291, ...,  0.54161066,\n",
            "        -0.95595464, -0.46794745],\n",
            "       [-1.60277883, -1.60277883, -0.93290291, ...,  0.54161066,\n",
            "        -0.95595464, -0.46794745]])\n"
          ]
        }
      ]
    },
    {
      "cell_type": "code",
      "source": [
        "from sklearn.model_selection import train_test_split\n",
        "x_train, x_test, y_train, y_test = train_test_split(x, y, test_size = 0.33, random_state = 42)"
      ],
      "metadata": {
        "id": "wV1wHG2MxLIH"
      },
      "execution_count": null,
      "outputs": []
    },
    {
      "cell_type": "code",
      "source": [
        "print(x_train.shape,y_train.shape,x_test.shape,y_test.shape)"
      ],
      "metadata": {
        "colab": {
          "base_uri": "https://localhost:8080/"
        },
        "id": "8423FwTgxTS5",
        "outputId": "47501b42-5da7-4ca8-ea4b-d1a578bef90e"
      },
      "execution_count": null,
      "outputs": [
        {
          "output_type": "stream",
          "name": "stdout",
          "text": [
            "(6309, 34) (6309, 1) (3108, 34) (3108, 1)\n"
          ]
        }
      ]
    },
    {
      "cell_type": "code",
      "source": [
        "Model = tf.keras.Sequential([\n",
        "    tf.keras.layers.Dense(units = 120, activation='relu'),\n",
        "    tf.keras.layers.Dense(units = 120, activation='relu'),\n",
        "    tf.keras.layers.Dense(units = 80, activation='relu'),\n",
        "    # tf.keras.layers.Dense(units = 10, activation='relu'),\n",
        "    tf.keras.layers.Dense(units = 6, activation='softmax')\n",
        "])"
      ],
      "metadata": {
        "id": "-RoOSZIxxV0q"
      },
      "execution_count": null,
      "outputs": []
    },
    {
      "cell_type": "code",
      "source": [
        "Model.compile(optimizer='adam',loss='SparseCategoricalCrossentropy',metrics=['accuracy'])"
      ],
      "metadata": {
        "id": "jYscIW_EyJ7F"
      },
      "execution_count": null,
      "outputs": []
    },
    {
      "cell_type": "code",
      "source": [
        "Model.fit(x_train,y_train,epochs = 20,validation_data=(x_test,y_test),verbose=2)"
      ],
      "metadata": {
        "colab": {
          "base_uri": "https://localhost:8080/"
        },
        "id": "7Q0jZcavyLYa",
        "outputId": "7f8b14bd-2926-4cc9-8ef1-1c807b13c570"
      },
      "execution_count": null,
      "outputs": [
        {
          "output_type": "stream",
          "name": "stdout",
          "text": [
            "Epoch 1/20\n",
            "198/198 - 3s - loss: 0.9716 - accuracy: 0.6339 - val_loss: 0.5926 - val_accuracy: 0.7873 - 3s/epoch - 14ms/step\n",
            "Epoch 2/20\n",
            "198/198 - 1s - loss: 0.5135 - accuracy: 0.8004 - val_loss: 0.4682 - val_accuracy: 0.8205 - 867ms/epoch - 4ms/step\n",
            "Epoch 3/20\n",
            "198/198 - 1s - loss: 0.4247 - accuracy: 0.8325 - val_loss: 0.4080 - val_accuracy: 0.8388 - 1s/epoch - 7ms/step\n",
            "Epoch 4/20\n",
            "198/198 - 1s - loss: 0.3922 - accuracy: 0.8379 - val_loss: 0.3851 - val_accuracy: 0.8488 - 990ms/epoch - 5ms/step\n",
            "Epoch 5/20\n",
            "198/198 - 1s - loss: 0.3715 - accuracy: 0.8483 - val_loss: 0.3754 - val_accuracy: 0.8507 - 985ms/epoch - 5ms/step\n",
            "Epoch 6/20\n",
            "198/198 - 1s - loss: 0.3582 - accuracy: 0.8486 - val_loss: 0.3758 - val_accuracy: 0.8333 - 946ms/epoch - 5ms/step\n",
            "Epoch 7/20\n",
            "198/198 - 1s - loss: 0.3489 - accuracy: 0.8545 - val_loss: 0.3682 - val_accuracy: 0.8526 - 966ms/epoch - 5ms/step\n",
            "Epoch 8/20\n",
            "198/198 - 1s - loss: 0.3410 - accuracy: 0.8540 - val_loss: 0.3590 - val_accuracy: 0.8539 - 920ms/epoch - 5ms/step\n",
            "Epoch 9/20\n",
            "198/198 - 1s - loss: 0.3364 - accuracy: 0.8575 - val_loss: 0.3625 - val_accuracy: 0.8555 - 994ms/epoch - 5ms/step\n",
            "Epoch 10/20\n",
            "198/198 - 1s - loss: 0.3436 - accuracy: 0.8542 - val_loss: 0.3792 - val_accuracy: 0.8468 - 1s/epoch - 5ms/step\n",
            "Epoch 11/20\n",
            "198/198 - 1s - loss: 0.3475 - accuracy: 0.8499 - val_loss: 0.3551 - val_accuracy: 0.8562 - 1s/epoch - 6ms/step\n",
            "Epoch 12/20\n",
            "198/198 - 1s - loss: 0.3325 - accuracy: 0.8531 - val_loss: 0.3587 - val_accuracy: 0.8427 - 956ms/epoch - 5ms/step\n",
            "Epoch 13/20\n",
            "198/198 - 1s - loss: 0.3241 - accuracy: 0.8612 - val_loss: 0.3446 - val_accuracy: 0.8623 - 1s/epoch - 6ms/step\n",
            "Epoch 14/20\n",
            "198/198 - 2s - loss: 0.3228 - accuracy: 0.8618 - val_loss: 0.3429 - val_accuracy: 0.8633 - 2s/epoch - 10ms/step\n",
            "Epoch 15/20\n",
            "198/198 - 1s - loss: 0.3223 - accuracy: 0.8607 - val_loss: 0.3490 - val_accuracy: 0.8475 - 1s/epoch - 7ms/step\n",
            "Epoch 16/20\n",
            "198/198 - 2s - loss: 0.3210 - accuracy: 0.8642 - val_loss: 0.3481 - val_accuracy: 0.8604 - 2s/epoch - 9ms/step\n",
            "Epoch 17/20\n",
            "198/198 - 1s - loss: 0.3233 - accuracy: 0.8569 - val_loss: 0.3451 - val_accuracy: 0.8616 - 1s/epoch - 5ms/step\n",
            "Epoch 18/20\n",
            "198/198 - 1s - loss: 0.3259 - accuracy: 0.8623 - val_loss: 0.4143 - val_accuracy: 0.8259 - 889ms/epoch - 4ms/step\n",
            "Epoch 19/20\n",
            "198/198 - 1s - loss: 0.3368 - accuracy: 0.8540 - val_loss: 0.4138 - val_accuracy: 0.8465 - 1s/epoch - 5ms/step\n",
            "Epoch 20/20\n",
            "198/198 - 1s - loss: 0.3374 - accuracy: 0.8545 - val_loss: 0.3638 - val_accuracy: 0.8514 - 769ms/epoch - 4ms/step\n"
          ]
        },
        {
          "output_type": "execute_result",
          "data": {
            "text/plain": [
              "<keras.src.callbacks.History at 0x7fdc45d4ba60>"
            ]
          },
          "metadata": {},
          "execution_count": 20
        }
      ]
    },
    {
      "cell_type": "code",
      "source": [
        "Model.evaluate(x_test, y_test)"
      ],
      "metadata": {
        "colab": {
          "base_uri": "https://localhost:8080/"
        },
        "id": "oiGmFyGxySLr",
        "outputId": "8da60b77-bda8-4ffa-879e-76856c6b64cb"
      },
      "execution_count": null,
      "outputs": [
        {
          "output_type": "stream",
          "name": "stdout",
          "text": [
            "98/98 [==============================] - 0s 3ms/step - loss: 0.3638 - accuracy: 0.8514\n"
          ]
        },
        {
          "output_type": "execute_result",
          "data": {
            "text/plain": [
              "[0.3637523949146271, 0.8513513803482056]"
            ]
          },
          "metadata": {},
          "execution_count": 21
        }
      ]
    },
    {
      "cell_type": "code",
      "source": [
        "results = Model.predict(x_test)"
      ],
      "metadata": {
        "colab": {
          "base_uri": "https://localhost:8080/"
        },
        "id": "LfnMH1hlztT8",
        "outputId": "2a8380ad-741b-491b-cb66-cfdafcf9be73"
      },
      "execution_count": null,
      "outputs": [
        {
          "output_type": "stream",
          "name": "stdout",
          "text": [
            "98/98 [==============================] - 1s 2ms/step\n"
          ]
        }
      ]
    },
    {
      "cell_type": "code",
      "source": [
        "results.shape"
      ],
      "metadata": {
        "colab": {
          "base_uri": "https://localhost:8080/"
        },
        "id": "udCIQud90QiC",
        "outputId": "4805619c-4194-4741-9b3a-0ba7d8dcc765"
      },
      "execution_count": null,
      "outputs": [
        {
          "output_type": "execute_result",
          "data": {
            "text/plain": [
              "(3108, 6)"
            ]
          },
          "metadata": {},
          "execution_count": 23
        }
      ]
    },
    {
      "cell_type": "code",
      "source": [
        "results[1]"
      ],
      "metadata": {
        "colab": {
          "base_uri": "https://localhost:8080/"
        },
        "id": "7-Z_gKWh0aJC",
        "outputId": "de004c5a-b19e-48d3-a210-bdbab8c880f3"
      },
      "execution_count": null,
      "outputs": [
        {
          "output_type": "execute_result",
          "data": {
            "text/plain": [
              "array([9.9975538e-01, 2.3709217e-04, 5.2584681e-10, 3.1321542e-06,\n",
              "       1.3377896e-08, 4.5251404e-06], dtype=float32)"
            ]
          },
          "metadata": {},
          "execution_count": 24
        }
      ]
    },
    {
      "cell_type": "code",
      "source": [
        "np.argmax(results[1])"
      ],
      "metadata": {
        "colab": {
          "base_uri": "https://localhost:8080/"
        },
        "id": "G688mkkV0g7n",
        "outputId": "389bb3ab-e351-4b3c-beb0-54a9c6910e3b"
      },
      "execution_count": null,
      "outputs": [
        {
          "output_type": "execute_result",
          "data": {
            "text/plain": [
              "0"
            ]
          },
          "metadata": {},
          "execution_count": 25
        }
      ]
    },
    {
      "cell_type": "code",
      "source": [
        "Model.save('model.h5')"
      ],
      "metadata": {
        "colab": {
          "base_uri": "https://localhost:8080/"
        },
        "id": "alBskA5a1ALJ",
        "outputId": "0e74b750-a8fb-489d-87ad-996d7b851bbc"
      },
      "execution_count": null,
      "outputs": [
        {
          "output_type": "stream",
          "name": "stderr",
          "text": [
            "/usr/local/lib/python3.10/dist-packages/keras/src/engine/training.py:3079: UserWarning: You are saving your model as an HDF5 file via `model.save()`. This file format is considered legacy. We recommend using instead the native Keras format, e.g. `model.save('my_model.keras')`.\n",
            "  saving_api.save_model(\n"
          ]
        }
      ]
    },
    {
      "cell_type": "code",
      "source": [],
      "metadata": {
        "id": "Mxx23QM_3fXR"
      },
      "execution_count": null,
      "outputs": []
    }
  ]
}